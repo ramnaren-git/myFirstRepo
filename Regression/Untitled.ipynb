{
 "cells": [
  {
   "cell_type": "code",
   "execution_count": 1,
   "id": "79ab6aeb",
   "metadata": {},
   "outputs": [],
   "source": [
    "import numpy as np\n",
    "import pandas as pd"
   ]
  },
  {
   "cell_type": "code",
   "execution_count": 3,
   "id": "b6cfc595",
   "metadata": {},
   "outputs": [
    {
     "name": "stdout",
     "output_type": "stream",
     "text": [
      "    year  month  interest_rate  unemployment_rate  index_price\n",
      "0   2017     12           2.75                5.3         1464\n",
      "1   2017     11           2.50                5.3         1394\n",
      "2   2017     10           2.50                5.3         1357\n",
      "3   2017      9           2.50                5.3         1293\n",
      "4   2017      8           2.50                5.4         1256\n",
      "5   2017      7           2.50                5.6         1254\n",
      "6   2017      6           2.50                5.5         1234\n",
      "7   2017      5           2.25                5.5         1195\n",
      "8   2017      4           2.25                5.5         1159\n",
      "9   2017      3           2.25                5.6         1167\n",
      "10  2017      2           2.00                5.7         1130\n",
      "11  2017      1           2.00                5.9         1075\n",
      "12  2016     12           2.00                6.0         1047\n",
      "13  2016     11           1.75                5.9          965\n",
      "14  2016     10           1.75                5.8          943\n",
      "15  2016      9           1.75                6.1          958\n",
      "16  2016      8           1.75                6.2          971\n",
      "17  2016      7           1.75                6.1          949\n",
      "18  2016      6           1.75                6.1          884\n",
      "19  2016      5           1.75                6.1          866\n",
      "20  2016      4           1.75                5.9          876\n",
      "21  2016      3           1.75                6.2          822\n",
      "22  2016      2           1.75                6.2          704\n",
      "23  2016      1           1.75                6.1          719\n"
     ]
    }
   ],
   "source": [
    "data = {'year': [2017,2017,2017,2017,2017,2017,2017,2017,2017,2017,2017,2017,2016,2016,2016,2016,2016,2016,2016,2016,2016,2016,2016,2016],\n",
    "        'month': [12,11,10,9,8,7,6,5,4,3,2,1,12,11,10,9,8,7,6,5,4,3,2,1],\n",
    "        'interest_rate': [2.75,2.5,2.5,2.5,2.5,2.5,2.5,2.25,2.25,2.25,2,2,2,1.75,1.75,1.75,1.75,1.75,1.75,1.75,1.75,1.75,1.75,1.75],\n",
    "        'unemployment_rate': [5.3,5.3,5.3,5.3,5.4,5.6,5.5,5.5,5.5,5.6,5.7,5.9,6,5.9,5.8,6.1,6.2,6.1,6.1,6.1,5.9,6.2,6.2,6.1],\n",
    "        'index_price': [1464,1394,1357,1293,1256,1254,1234,1195,1159,1167,1130,1075,1047,965,943,958,971,949,884,866,876,822,704,719]        \n",
    "        }\n",
    "df = pd.DataFrame(data) \n",
    "\n",
    "print(df)"
   ]
  },
  {
   "cell_type": "code",
   "execution_count": null,
   "id": "7d191e81",
   "metadata": {},
   "outputs": [],
   "source": []
  }
 ],
 "metadata": {
  "kernelspec": {
   "display_name": "Python 3 (ipykernel)",
   "language": "python",
   "name": "python3"
  },
  "language_info": {
   "codemirror_mode": {
    "name": "ipython",
    "version": 3
   },
   "file_extension": ".py",
   "mimetype": "text/x-python",
   "name": "python",
   "nbconvert_exporter": "python",
   "pygments_lexer": "ipython3",
   "version": "3.9.13"
  }
 },
 "nbformat": 4,
 "nbformat_minor": 5
}
